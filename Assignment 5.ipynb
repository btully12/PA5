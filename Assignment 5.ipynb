{
 "cells": [
  {
   "cell_type": "markdown",
   "id": "d5f53386",
   "metadata": {},
   "source": [
    "# File name: Programming Assignment 5\n",
    "\n",
    "## Author: Brett Tully\n",
    "\n",
    "### Python Version: 3\n",
    "\n",
    "#### Class: CS-150-02\n",
    "\n",
    "##### Semester: Fall '21"
   ]
  },
  {
   "cell_type": "code",
   "execution_count": 214,
   "id": "7123e425",
   "metadata": {},
   "outputs": [
    {
     "name": "stdout",
     "output_type": "stream",
     "text": [
      "Choose between the 20 English words below to be translated to Japanese: \n",
      "\u001b[1mpotato\u001b[0m\n",
      "\u001b[1mham\u001b[0m\n",
      "\u001b[1mbackpack\u001b[0m\n",
      "\u001b[1mprogram\u001b[0m\n",
      "\u001b[1mtelevision\u001b[0m\n",
      "\u001b[1mapple\u001b[0m\n",
      "\u001b[1mlight\u001b[0m\n",
      "\u001b[1mvideo game\u001b[0m\n",
      "\u001b[1mshrimp\u001b[0m\n",
      "\u001b[1mhorse\u001b[0m\n",
      "\u001b[1mcollege\u001b[0m\n",
      "\u001b[1mwater\u001b[0m\n",
      "\u001b[1mtiger\u001b[0m\n",
      "\u001b[1mairplane\u001b[0m\n",
      "\u001b[1mbourbon\u001b[0m\n",
      "\u001b[1mpresident\u001b[0m\n",
      "\u001b[1msteak\u001b[0m\n",
      "\u001b[1mrice\u001b[0m\n",
      "\u001b[1mfish\u001b[0m\n",
      "\u001b[1mwatch\u001b[0m\n",
      "  \n",
      "Enter the English word(or type 0 to stop):  potato\n",
      "  \n",
      "The English word \u001b[1mpotato\u001b[0m translates to \u001b[1mjagaimo\u001b[0m in Japanese.                       There are 19 words left to pick\n",
      "Enter the English word(or type 0 to stop):  ham\n",
      "  \n",
      "The English word \u001b[1mham\u001b[0m translates to \u001b[1mhamu\u001b[0m in Japanese.                       There are 18 words left to pick\n",
      "Enter the English word(or type 0 to stop):  0\n"
     ]
    }
   ],
   "source": [
    "class color:\n",
    "   PURPLE = '\\033[95m'\n",
    "   CYAN = '\\033[96m'\n",
    "   DARKCYAN = '\\033[36m'\n",
    "   BLUE = '\\033[94m'\n",
    "   GREEN = '\\033[92m'\n",
    "   YELLOW = '\\033[93m'\n",
    "   RED = '\\033[91m'\n",
    "   BOLD = '\\033[1m'\n",
    "   UNDERLINE = '\\033[4m'\n",
    "   END = '\\033[0m'\n",
    "   \n",
    "Jap_Engdict= dict({'potato':'jagaimo','ham':'hamu','backpack':'bakku pakku','program':'puroguramu','television': 'terebi', 'apple':'appuru', 'light' : 'raito','video game':'terebigemu','shrimp':'ebi','horse':'uma','college':'karejji','water':'mizu','tiger':'tora','airplane':'hikoki','bourbon':'babon','president':'daitoryo','steak':'suteki','rice':'gohan','fish':'sakana','watch':'miru'})\n",
    "print(\"Choose between the 20 English words below to be translated to Japanese: \")\n",
    "for key in Jap_Engdict: \n",
    "    print(color.BOLD +key+ color.END)\n",
    "words_left=20\n",
    "print('  ')\n",
    "while words_left>1: \n",
    "    words_left=words_left-1\n",
    "    \n",
    "    tt=input('Enter the English word(or type 0 to stop):  ')\n",
    "    if tt=='0': \n",
    "        break\n",
    "    key1=Jap_Engdict.get(tt)\n",
    "    if tt not in Jap_Engdict:\n",
    "        print(\"Word not found, check your spelling or choose a different word\")\n",
    "        tt=input('Enter the English word(or type 0 to stop): ')\n",
    "    print('  ')   \n",
    "    print(f'The English word',color.BOLD +(tt)+ color.END,'translates to',color.BOLD +(key1)+ color.END,'in Japanese.','                     ', 'There are',(words_left),'words left to pick')\n",
    "    "
   ]
  },
  {
   "cell_type": "code",
   "execution_count": 215,
   "id": "84d923c3",
   "metadata": {},
   "outputs": [
    {
     "name": "stdout",
     "output_type": "stream",
     "text": [
      "1  :  27.0\n",
      "2  :  27.0\n",
      "3  :  27.0\n",
      "4  :  28.0\n",
      "5  :  26.0\n",
      "6  :  29.0\n",
      "7  :  29.0\n",
      "8  :  27.0\n",
      "9  :  26.0\n",
      "10  :  27.0\n",
      "11  :  28.0\n",
      "12  :  30.0\n",
      "13  :  31.0\n",
      "14  :  31.0\n",
      "15  :  27.0\n",
      "16  :  28.0\n",
      "17  :  30.0\n",
      "18  :  31.0\n",
      "19  :  29.0\n",
      "20  :  24.0\n",
      "21  :  26.0\n",
      "22  :  16.0\n",
      "23  :  20.0\n",
      "24  :  23.0\n",
      "25  :  22.0\n",
      "26  :  24.0\n",
      "27  :  28.0\n",
      "28  :  29.0\n",
      "29  :  29.0\n",
      "30  :  28.0\n",
      "  \n",
      "The hottest temperature of the year in Celsius is 31 degrees C. The Coldest temperature of the year is 16 degrees C\n"
     ]
    }
   ],
   "source": [
    "ky_temp= {1:81, \n",
    "         2:80,\n",
    "         3:81,\n",
    "         3: 81,\n",
    "         4: 82,\n",
    "         5: 79,\n",
    "         6: 84,\n",
    "         7: 85,\n",
    "         8: 81,\n",
    "         9: 79,\n",
    "         10:80,\n",
    "         11:82,\n",
    "         12:86,\n",
    "         13:88,\n",
    "         14:88,\n",
    "         15:80,\n",
    "         16:83,\n",
    "         17:86,\n",
    "         18:87,\n",
    "         19:84,\n",
    "         20:76,\n",
    "         21:78,\n",
    "         22:61,\n",
    "         23:68,\n",
    "         24:73,\n",
    "         25:72,\n",
    "         26:76,\n",
    "         27:82,\n",
    "         28:85,\n",
    "         29:85,\n",
    "         30:83} \n",
    "days=list(ky_temp.keys()) \n",
    "F_temp=list(ky_temp.values())\n",
    "C_temp=dict()\n",
    "\n",
    "for i in ky_temp: \n",
    "    ky_temp[i]=(ky_temp[i]-32)*(5/9)\n",
    "for key,value in ky_temp.items():\n",
    "    print(key, ' : ', round(value,0))\n",
    "C_temp=list()\n",
    "C_temp=ky_temp.values()\n",
    "hottest=max(C_temp) \n",
    "coldest=min(C_temp) \n",
    "print('  ')\n",
    "print(\"The hottest temperature of the year in Celsius is {0:.0f} degrees C. The Coldest temperature of the year is {1:.0f} degrees C\".format(hottest,coldest))\n",
    "    "
   ]
  },
  {
   "cell_type": "markdown",
   "id": "f4bde459",
   "metadata": {},
   "source": [
    "# Set Operations"
   ]
  },
  {
   "cell_type": "code",
   "execution_count": 216,
   "id": "f1d696a3",
   "metadata": {},
   "outputs": [
    {
     "data": {
      "text/plain": [
       "{10, 12, 22, 23, 24, 34, 65, 76, 77, 99}"
      ]
     },
     "execution_count": 216,
     "metadata": {},
     "output_type": "execute_result"
    }
   ],
   "source": [
    "# Symmetric Difference: items within both sets that are not similar will be outputted\n",
    "seta={34,12,18,22,21,24,77}\n",
    "setb={65,23,18,21,99,76,10} \n",
    "seta^setb \n"
   ]
  },
  {
   "cell_type": "code",
   "execution_count": 217,
   "id": "b9865f75",
   "metadata": {},
   "outputs": [
    {
     "data": {
      "text/plain": [
       "False"
      ]
     },
     "execution_count": 217,
     "metadata": {},
     "output_type": "execute_result"
    }
   ],
   "source": [
    "# .isdisjoint(): Returns true if none of the items in Seta are in Setb\n",
    "seta={34,12,18,22,21,24,77}\n",
    "setb={65,23,18,21,99,76,10}\n",
    "seta.isdisjoint(setb)"
   ]
  },
  {
   "cell_type": "code",
   "execution_count": 198,
   "id": "90427861",
   "metadata": {},
   "outputs": [
    {
     "name": "stdout",
     "output_type": "stream",
     "text": [
      "{18, 21}\n"
     ]
    },
    {
     "data": {
      "text/plain": [
       "{18, 21}"
      ]
     },
     "execution_count": 198,
     "metadata": {},
     "output_type": "execute_result"
    }
   ],
   "source": [
    "# intersection_update(): removes items in this set that are not present in the other set\n",
    "seta={34,12,18,22,21,24,77}\n",
    "setb={65,23,18,21,99,76,10}\n",
    "seta.intersection_update(setb) \n",
    "print(seta) \n",
    "\n",
    "#or \n",
    "\n",
    "seta={34,12,18,22,21,24,77}\n",
    "setb={65,23,18,21,99,76,10} \n",
    "seta&=setb \n",
    "seta\n"
   ]
  },
  {
   "cell_type": "code",
   "execution_count": 199,
   "id": "92f71190",
   "metadata": {},
   "outputs": [
    {
     "data": {
      "text/plain": [
       "{10, 12, 22, 23, 24, 34, 65, 76, 77, 99}"
      ]
     },
     "execution_count": 199,
     "metadata": {},
     "output_type": "execute_result"
    }
   ],
   "source": [
    "# Symmetric Difference: items within both sets that are not similar will be outputted\n",
    "seta={34,12,18,22,21,24,77}\n",
    "setb={65,23,18,21,99,76,10} \n",
    "seta^=setb \n",
    "seta"
   ]
  },
  {
   "cell_type": "code",
   "execution_count": 205,
   "id": "0bd02d22",
   "metadata": {},
   "outputs": [
    {
     "name": "stdout",
     "output_type": "stream",
     "text": [
      "{34, 12, 77, 21, 22, 24}\n"
     ]
    }
   ],
   "source": [
    "# .remove() will remove the specified element within the set, but will show error if element does not exist.\n",
    "seta={34,12,18,22,21,24,77}\n",
    "setb={65,23,18,21,99,76,10} \n",
    "seta.remove(18)\n",
    "print(seta)"
   ]
  },
  {
   "cell_type": "code",
   "execution_count": 207,
   "id": "30fb46c5",
   "metadata": {},
   "outputs": [
    {
     "data": {
      "text/plain": [
       "{10, 21, 23, 65, 76, 99}"
      ]
     },
     "execution_count": 207,
     "metadata": {},
     "output_type": "execute_result"
    }
   ],
   "source": [
    "# .discard() will remove element from set, and will not show error if it does not exist\n",
    "seta={34,12,18,22,21,24,77}\n",
    "setb={65,23,18,21,99,76,10} \n",
    "setb.discard(18)\n",
    "setb"
   ]
  },
  {
   "cell_type": "code",
   "execution_count": 212,
   "id": "55c9d139",
   "metadata": {},
   "outputs": [
    {
     "data": {
      "text/plain": [
       "{10, 18, 21, 23, 76, 99}"
      ]
     },
     "execution_count": 212,
     "metadata": {},
     "output_type": "execute_result"
    }
   ],
   "source": [
    "# .pop()removes the first item in a set\n",
    "seta={34,12,18,22,21,24,77}\n",
    "setb={65,23,18,21,99,76,10} \n",
    "setb.pop() \n",
    "setb"
   ]
  },
  {
   "cell_type": "code",
   "execution_count": null,
   "id": "230e4975",
   "metadata": {},
   "outputs": [],
   "source": []
  },
  {
   "cell_type": "code",
   "execution_count": null,
   "id": "dfeca929",
   "metadata": {},
   "outputs": [],
   "source": []
  },
  {
   "cell_type": "code",
   "execution_count": null,
   "id": "c15887dc",
   "metadata": {},
   "outputs": [],
   "source": []
  }
 ],
 "metadata": {
  "kernelspec": {
   "display_name": "Python 3",
   "language": "python",
   "name": "python3"
  },
  "language_info": {
   "codemirror_mode": {
    "name": "ipython",
    "version": 3
   },
   "file_extension": ".py",
   "mimetype": "text/x-python",
   "name": "python",
   "nbconvert_exporter": "python",
   "pygments_lexer": "ipython3",
   "version": "3.8.8"
  }
 },
 "nbformat": 4,
 "nbformat_minor": 5
}
